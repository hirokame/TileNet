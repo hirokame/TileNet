{
 "cells": [
  {
   "cell_type": "code",
   "execution_count": null,
   "metadata": {
    "scrolled": true
   },
   "outputs": [
    {
     "name": "stdout",
     "output_type": "stream",
     "text": [
      "[['1' '1' '1' '1' '1' '1' '1' '1' '1' '1' '1']\n",
      " ['1' '1' '1' '1' '1' '1' '1' '1' '1' '1' '1']\n",
      " ['1' '1' 'S' '0' '0' '0' '0' '0' '0' '1' '1']\n",
      " ['1' '1' '0' '0' '0' '0' '0' '0' '0' '1' '1']\n",
      " ['1' '1' '0' '1' '1' '1' '1' '1' '0' '1' '1']\n",
      " ['1' '1' '0' '1' '0' 'G' '0' '1' '0' '1' '1']\n",
      " ['1' '1' '0' '1' '0' '0' '0' '1' '0' '1' '1']\n",
      " ['1' '1' '0' '0' '0' '0' '0' '0' '0' '1' '1']\n",
      " ['1' '1' '0' '0' '0' '0' '0' '0' '0' '1' '1']\n",
      " ['1' '1' '1' '1' '1' '1' '1' '1' '1' '1' '1']\n",
      " ['1' '1' '1' '1' '1' '1' '1' '1' '1' '1' '1']]\n"
     ]
    },
    {
     "name": "stderr",
     "output_type": "stream",
     "text": [
      "100%|██████████████████████████████████████████████████████████████████████████████████| 50/50 [00:03<00:00, 15.26it/s]\n"
     ]
    },
    {
     "name": "stdout",
     "output_type": "stream",
     "text": [
      "Finish\n"
     ]
    },
    {
     "data": {
      "image/png": "[encoded data removed]",
      "text/plain": [
       "<Figure size 432x288 with 1 Axes>"
      ]
     },
     "metadata": {
      "needs_background": "light"
     },
     "output_type": "display_data"
    }
   ],
   "source": [
    "from environment import Maze\n",
    "from agent import Agent\n",
    "import matplotlib.pyplot as plt\n",
    "import csv\n",
    "%matplotlib inline\n",
    "import numpy as np\n",
    "from scipy.stats.mstats import mquantiles\n",
    "import pandas as pd\n",
    "from tqdm import tqdm \n",
    "x_list = []\n",
    "\n",
    "def train():\n",
    "    kernel = 2 # Thickness of the outer wall of the maze (extension)\n",
    "    start = [1, 1] # Specify the start position\n",
    "    goal = [4, 4] # Specify the goal position\n",
    "\n",
    "    log_step_all = []\n",
    "\n",
    "\n",
    "    \"\"\"Automatically generate a maze\"\"\"\n",
    "    env = Maze(7, 7) # Specify the size of the maze\n",
    "    env.set_out_wall() # Surround the maze with walls\n",
    "    env.set_start_goal(start, goal) # Specify start and goal positions\n",
    "    env.bg_maze(kernel) # Expand the maze cells by kernel thickness\n",
    "\n",
    "    \"\"\"Generate an agent in the environment and train\"\"\"\n",
    "    epochs =  1 # Number of episode trials\n",
    "    episode_count = 50 # Number of episodes\n",
    "#     for epoch in tqdm(range(1, epochs+1)):\n",
    "    for epoch in range(1, epochs+1):\n",
    "        epsilon = 0.1\n",
    "        agent = Agent(env.maze, action_num=4)\n",
    "        env.run(agent, epoch, episode_count)\n",
    "        log_step_all.append(env.a_list)\n",
    "\n",
    "    print('Finish')\n",
    "    \n",
    "    x = np.arange(episode_count)\n",
    "    x_list.append(x)\n",
    "#     print(log_step_all)\n",
    "    mean = np.array(log_step_all).mean(axis=0)\n",
    "    std = np.array(log_step_all).std(axis=0)\n",
    "\n",
    "\n",
    "#     plt.fill_between(x, mean + std, mean - std, alpha=0.2, color='green')\n",
    "    plt.plot(x, mean, color='green')\n",
    "    plt.show()\n",
    "\n",
    "#     df = pd.DataFrame(log_step_all)\n",
    "#     df.to_csv('log_test.csv', index=False)\n",
    "\n",
    "    \n",
    "#     df = pd.DataFrame(list(zip(mean, std, mean+std, mean-std)), columns=['mean', 'std', '+', '-'])\n",
    "#     df.to_csv('VBG_(7,7)_LR.csv', index=False)\n",
    "\n",
    "if __name__ == \"__main__\":\n",
    "    train()"
   ]
  }
 ],
 "metadata": {
  "kernelspec": {
   "display_name": "Python 3 (ipykernel)",
   "language": "python",
   "name": "python3"
  },
  "language_info": {
   "codemirror_mode": {
    "name": "ipython",
    "version": 3
   },
   "file_extension": ".py",
   "mimetype": "text/x-python",
   "name": "python",
   "nbconvert_exporter": "python",
   "pygments_lexer": "ipython3",
   "version": "3.9.7"
  }
 },
 "nbformat": 4,
 "nbformat_minor": 4
}
