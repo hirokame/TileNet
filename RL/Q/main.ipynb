{
 "cells": [
  {
   "cell_type": "code",
   "execution_count": null,
   "id": "0366212a",
   "metadata": {
    "scrolled": true
   },
   "outputs": [
    {
     "name": "stderr",
     "output_type": "stream",
     "text": [
      "C:\\Users\\souma\\anaconda3\\lib\\site-packages\\scipy\\__init__.py:146: UserWarning: A NumPy version >=1.16.5 and <1.23.0 is required for this version of SciPy (detected version 1.26.4\n",
      "  warnings.warn(f\"A NumPy version >={np_minversion} and <{np_maxversion}\"\n"
     ]
    },
    {
     "name": "stdout",
     "output_type": "stream",
     "text": [
      "[['1' '1' '1' '1' '1' '1' '1' '1' '1' '1' '1']\n",
      " ['1' '1' '1' '1' '1' '1' '1' '1' '1' '1' '1']\n",
      " ['1' '1' 'S' '0' '0' '0' '0' '0' '0' '1' '1']\n",
      " ['1' '1' '0' '0' '0' '0' '0' '0' '0' '1' '1']\n",
      " ['1' '1' '0' '1' '1' '1' '1' '1' '0' '1' '1']\n",
      " ['1' '1' '0' '1' '0' 'G' '0' '1' '0' '1' '1']\n",
      " ['1' '1' '0' '1' '0' '0' '0' '1' '0' '1' '1']\n",
      " ['1' '1' '0' '0' '0' '0' '0' '0' '0' '1' '1']\n",
      " ['1' '1' '0' '0' '0' '0' '0' '0' '0' '1' '1']\n",
      " ['1' '1' '1' '1' '1' '1' '1' '1' '1' '1' '1']\n",
      " ['1' '1' '1' '1' '1' '1' '1' '1' '1' '1' '1']]\n",
      "\n"
     ]
    },
    {
     "name": "stderr",
     "output_type": "stream",
     "text": [
      "100%|████████████████████████████████████████████████████████████████████████████████████| 1/1 [00:00<00:00,  1.47it/s]"
     ]
    },
    {
     "name": "stdout",
     "output_type": "stream",
     "text": [
      "Finish\n"
     ]
    },
    {
     "name": "stderr",
     "output_type": "stream",
     "text": [
      "\n"
     ]
    }
   ],
   "source": [
    "from environment import Maze\n",
    "from agent import Agent\n",
    "from tqdm import tqdm\n",
    "\n",
    "def train():\n",
    "    kernel = 2 # Thickness of the outer wall of the maze (extension)\n",
    "    start = [1, 1] # Specify the start position\n",
    "    goal = [4, 4] # Specify the goal position\n",
    "\n",
    "    \"\"\"Automatically generate a maze\"\"\"\n",
    "    env = Maze(7, 7) # Specify the size of the maze\n",
    "    env.set_out_wall() # Surround the maze with walls\n",
    "    #env.set_inner_wall_boutaosi() # Automatically generate inner walls\n",
    "    env.set_start_goal(start, goal) # Specify start and goal positions\n",
    "    env.bg_maze(kernel) # Expand the maze cells by kernel thickness\n",
    "\n",
    "    \"\"\"Generate an agent in the environment and train\"\"\"\n",
    "    n = 1 # Number of episode trials\n",
    "    episode_count = 200 # Number of episodes\n",
    "    for e in tqdm(range(1, n+1)):\n",
    "        epsilon = 0.1\n",
    "        agent = Agent(env.maze)\n",
    "        env.run(agent, e, episode_count)\n",
    "    print('Finish')\n",
    "\n",
    "\n",
    "if __name__ == \"__main__\":\n",
    "    train()"
   ]
  },
  {
   "cell_type": "code",
   "execution_count": null,
   "id": "4bfb3465",
   "metadata": {},
   "outputs": [
    {
     "data": {
      "image/png": "[encoded data removed]",
      "text/plain": [
       "<Figure size 432x288 with 1 Axes>"
      ]
     },
     "metadata": {
      "needs_background": "light"
     },
     "output_type": "display_data"
    }
   ],
   "source": [
    "import pandas as pd\n",
    "import numpy as np\n",
    "import matplotlib.pyplot as plt\n",
    "\n",
    "# Read the CSV file as a DataFrame\n",
    "a_cnt_all = []\n",
    "\n",
    "for i in range(1, 201):\n",
    "    df = pd.read_csv('sampleNMQ-'+str(i)+'.csv')\n",
    "    df = df[df['reward'] == 1]\n",
    "    df = df['a_cnt']\n",
    "    df = np.array(df)\n",
    "    a_cnt_all.append(df)\n",
    "# Display the DataFrame\n",
    "# print(np.array(a_cnt_all))\n",
    "ave_vl = np.mean(a_cnt_all, axis=0)\n",
    "sigma_vl = np.std(a_cnt_all, axis=0)\n",
    "\n",
    "x = np.linspace(0, 50)\n",
    "plt.plot(x, ave_vl)\n",
    "plt.fill_between(x, ave_vl+sigma_vl, ave_vl-sigma_vl, alpha=0.3)\n",
    "\n",
    "df = pd.DataFrame(list(zip(ave_vl, ave_vl+sigma_vl, ave_vl-sigma_vl)), columns=['mean', '+', '-'])\n",
    "df.to_csv('steps_QL.csv', index=False)"
   ]
  },
  {
   "cell_type": "markdown",
   "id": "f8a35fdd",
   "metadata": {},
   "source": [
    "### Red：Q-Learning、Green：Q-TileNet"
   ]
  },
  {
   "cell_type": "code",
   "execution_count": null,
   "id": "9e70dc3a",
   "metadata": {},
   "outputs": [
    {
     "data": {
      "image/png": "[encoded data removed]",
      "text/plain": [
       "<Figure size 432x288 with 1 Axes>"
      ]
     },
     "metadata": {
      "needs_background": "light"
     },
     "output_type": "display_data"
    }
   ],
   "source": [
    "import numpy as np\n",
    "import pandas as pd\n",
    "import matplotlib.pyplot as plt\n",
    "\n",
    "file_path = 'steps_QBG.csv'\n",
    "selected_columns = ['mean']\n",
    "mean1 = pd.read_csv(file_path, usecols=selected_columns)\n",
    "selected_columns = ['+']\n",
    "plus1 = pd.read_csv(file_path, usecols=selected_columns)\n",
    "selected_columns = ['-']\n",
    "minus1 = pd.read_csv(file_path, usecols=selected_columns)\n",
    "\n",
    "\n",
    "file_path = 'steps_QL.csv'  # Path to the CSV file to be read\n",
    "selected_columns = ['mean']\n",
    "mean2 = pd.read_csv(file_path, usecols=selected_columns)\n",
    "selected_columns = ['+']\n",
    "plus2 = pd.read_csv(file_path, usecols=selected_columns)\n",
    "selected_columns = ['-']\n",
    "minus2 = pd.read_csv(file_path, usecols=selected_columns)\n",
    "\n",
    "x = np.arange(50)\n",
    "plt.fill_between(x, plus1['+'], minus1['-'], alpha=0.2, color='green')\n",
    "plt.plot(x, mean1, color='green',label='QBG')\n",
    "# plt.show()\n",
    "\n",
    "x = np.arange(50)\n",
    "plt.fill_between(x, plus2['+'], minus2['-'], alpha=0.2, color='red')\n",
    "plt.plot(x, mean2, color='red',label='QL')\n",
    "plt.savefig('LR_QBG_QL_comparison.svg')\n",
    "plt.show()"
   ]
  },
  {
   "cell_type": "code",
   "execution_count": null,
   "id": "0d507295",
   "metadata": {},
   "outputs": [],
   "source": []
  }
 ],
 "metadata": {
  "kernelspec": {
   "display_name": "Python 3 (ipykernel)",
   "language": "python",
   "name": "python3"
  },
  "language_info": {
   "codemirror_mode": {
    "name": "ipython",
    "version": 3
   },
   "file_extension": ".py",
   "mimetype": "text/x-python",
   "name": "python",
   "nbconvert_exporter": "python",
   "pygments_lexer": "ipython3",
   "version": "3.9.7"
  }
 },
 "nbformat": 4,
 "nbformat_minor": 5
}
